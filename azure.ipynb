{
 "cells": [
  {
   "cell_type": "code",
   "execution_count": 1,
   "metadata": {},
   "outputs": [
    {
     "name": "stdout",
     "output_type": "stream",
     "text": [
      "collection azure already exists\n",
      "Removing existing documents\n",
      "Using provider:  azure_openai\n",
      "Using model:  text-embedding-ada-002\n",
      "Using dimensions:  1536\n"
     ]
    }
   ],
   "source": [
    "from classes import MongoDBConnection,Embeddings\n",
    "from pymongo.errors import CollectionInvalid,OperationFailure\n",
    "connection = MongoDBConnection()\n",
    "db = connection.get_database()\n",
    "try:\n",
    "    db.create_collection('azure')\n",
    "except CollectionInvalid as e:\n",
    "    print(e)\n",
    "    print('Removing existing documents')\n",
    "    db.azure.delete_many({})\n",
    "    pass\n",
    "collection = db.azure\n",
    "embeddings = Embeddings()"
   ]
  },
  {
   "cell_type": "code",
   "execution_count": 2,
   "metadata": {},
   "outputs": [
    {
     "name": "stdout",
     "output_type": "stream",
     "text": [
      "Duplicate Index, full error: {'ok': 0.0, 'errmsg': 'Duplicate Index', 'code': 68, 'codeName': 'IndexAlreadyExists', '$clusterTime': {'clusterTime': Timestamp(1726569232, 1), 'signature': {'hash': b'$\\xb6\\xef\\x81\\x87\\x1d\\x00\\x8c\\xd0\\xdc\\xfbK\\xeez\\xaf\\x8da:\\x06@', 'keyId': 7377378677668970498}}, 'operationTime': Timestamp(1726569232, 1)}\n"
     ]
    }
   ],
   "source": [
    "try:\n",
    "    collection.create_search_index(\n",
    "        {\"definition\":\n",
    "            {\n",
    "                \"fields\": [\n",
    "                    {\n",
    "                        \"path\":\"embedding\",\n",
    "                        \"numDimensions\": 1536,\n",
    "                        \"similarity\": \"dotProduct\",\n",
    "                        \"type\": \"vector\"\n",
    "                    }\n",
    "                ]\n",
    "            },\n",
    "            \"name\": \"vectorIndex\",\n",
    "            \"type\": \"vectorSearch\"\n",
    "        }\n",
    "    )\n",
    "except OperationFailure as e:\n",
    "    print(e)\n",
    "    pass"
   ]
  },
  {
   "cell_type": "code",
   "execution_count": 3,
   "metadata": {},
   "outputs": [
    {
     "data": {
      "text/plain": [
       "InsertOneResult(ObjectId('66e95b1b4be0bf8d3b5097da'), acknowledged=True)"
      ]
     },
     "execution_count": 3,
     "metadata": {},
     "output_type": "execute_result"
    }
   ],
   "source": [
    "collection.insert_one({'content':\"Hello world!\"})"
   ]
  },
  {
   "cell_type": "code",
   "execution_count": 14,
   "metadata": {},
   "outputs": [
    {
     "name": "stdout",
     "output_type": "stream",
     "text": [
      "_id\t:\t66e95b1b4be0bf8d3b5097da\n",
      "content\t:\tHello world!\n",
      "score\t:\t0.930620551109314\n",
      "----------------------------------------\n"
     ]
    }
   ],
   "source": [
    "results = list(collection.aggregate([\n",
    "    {\n",
    "        \"$vectorSearch\":{\n",
    "            \"path\":\"embedding\",\n",
    "            \"queryVector\":embeddings.get_embedding(\"Hello bob!\"),\n",
    "            \"numCandidates\":10,\n",
    "            \"limit\":10,\n",
    "            \"index\":\"vectorIndex\"\n",
    "        }\n",
    "    },\n",
    "    {\n",
    "        \"$project\":{\n",
    "            \"content\":1,\n",
    "            \"score\":{\n",
    "                \"$meta\":\"vectorSearchScore\"\n",
    "            }\n",
    "        }\n",
    "    }\n",
    "]))\n",
    "\n",
    "for r in results:\n",
    "    print(f\"_id\\t:\\t{r[\"_id\"]}\\ncontent\\t:\\t{r['content']}\\nscore\\t:\\t{r['score']}\")\n",
    "    print(\"-\"*40)"
   ]
  },
  {
   "cell_type": "code",
   "execution_count": null,
   "metadata": {},
   "outputs": [],
   "source": [
    "collection.insert_one({'content':\"Greetings Bob!\"})"
   ]
  },
  {
   "cell_type": "code",
   "execution_count": null,
   "metadata": {},
   "outputs": [],
   "source": [
    "# collection.drop_search_index(\"vectorIndex\")\n",
    "# db.drop_collection(\"azure\")"
   ]
  }
 ],
 "metadata": {
  "kernelspec": {
   "display_name": "ai-providers",
   "language": "python",
   "name": "python3"
  },
  "language_info": {
   "codemirror_mode": {
    "name": "ipython",
    "version": 3
   },
   "file_extension": ".py",
   "mimetype": "text/x-python",
   "name": "python",
   "nbconvert_exporter": "python",
   "pygments_lexer": "ipython3",
   "version": "3.12.4"
  }
 },
 "nbformat": 4,
 "nbformat_minor": 2
}
